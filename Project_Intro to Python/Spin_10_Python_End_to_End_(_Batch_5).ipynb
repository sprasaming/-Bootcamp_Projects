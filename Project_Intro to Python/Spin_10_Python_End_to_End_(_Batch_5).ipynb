{
  "nbformat": 4,
  "nbformat_minor": 0,
  "metadata": {
    "colab": {
      "provenance": [],
      "collapsed_sections": [
        "QCICISFUSpxO",
        "jzt1ptLURulh",
        "jAvEqVbYR5Sj",
        "nEAtqD5o_zRd",
        "RFDpvqwNFZth",
        "Yi-Ct0SPL80h",
        "EZgxvxrEScc5"
      ],
      "toc_visible": true
    },
    "kernelspec": {
      "name": "python3",
      "display_name": "Python 3"
    },
    "language_info": {
      "name": "python"
    }
  },
  "cells": [
    {
      "cell_type": "markdown",
      "source": [
        "*italicized text*# **Python End to End ( Batch 5)**\n",
        "\n",
        "Contents :\n",
        "\n",
        "- Variable\n",
        "- Data Type\n",
        "- String\n",
        "- Data Structure\n",
        "- Function\n",
        "- Control Flow\n",
        "- OOP( Object Oriented Programming ) "
      ],
      "metadata": {
        "id": "XMNAJthTw_p1"
      }
    },
    {
      "cell_type": "markdown",
      "source": [
        "## **Basic computation**"
      ],
      "metadata": {
        "id": "QCICISFUSpxO"
      }
    },
    {
      "cell_type": "code",
      "execution_count": null,
      "metadata": {
        "colab": {
          "base_uri": "https://localhost:8080/"
        },
        "id": "K34UHBV1vy8o",
        "outputId": "adc4209e-4a57-40f1-ec37-81b9f6974a1b"
      },
      "outputs": [
        {
          "output_type": "stream",
          "name": "stdout",
          "text": [
            "2\n",
            "4\n",
            "2.5\n",
            "2\n",
            "10\n",
            "1\n"
          ]
        }
      ],
      "source": [
        "print(1 + 1)\n",
        "print(2 * 2)\n",
        "print(5 / 2)\n",
        "print(5 // 2) # floor division\n",
        "print(6 + 4)\n",
        "print(5 % 2) # modulo"
      ]
    },
    {
      "cell_type": "markdown",
      "source": [
        "## **Variable**"
      ],
      "metadata": {
        "id": "jzt1ptLURulh"
      }
    },
    {
      "cell_type": "code",
      "source": [
        "\n",
        "income = 50000\n",
        "expense = 28000\n",
        "saving = income - expense\n",
        "print(saving)"
      ],
      "metadata": {
        "colab": {
          "base_uri": "https://localhost:8080/"
        },
        "id": "Bzu7S7BwxwOk",
        "outputId": "33ed4921-7652-428c-d716-7e9e7840fadc"
      },
      "execution_count": null,
      "outputs": [
        {
          "output_type": "stream",
          "name": "stdout",
          "text": [
            "22000\n"
          ]
        }
      ]
    },
    {
      "cell_type": "code",
      "source": [
        "del saving"
      ],
      "metadata": {
        "id": "oP3_sm0SyutH"
      },
      "execution_count": null,
      "outputs": []
    },
    {
      "cell_type": "code",
      "source": [
        "# string variable\n",
        "my_name = \"nueng\" #'nueng'\n",
        "my_age = 31\n",
        "print(\"Hello! my name is \"+ my_name + \" and I'm \" + str(my_age) + \" years old.\")\n"
      ],
      "metadata": {
        "colab": {
          "base_uri": "https://localhost:8080/"
        },
        "id": "qkPLuMOzy5oD",
        "outputId": "bad1f98b-b278-41cb-ea9c-5ecf9d3e2601"
      },
      "execution_count": null,
      "outputs": [
        {
          "output_type": "stream",
          "name": "stdout",
          "text": [
            "Hello! my name is nueng and I'm 31 years old.\n"
          ]
        }
      ]
    },
    {
      "cell_type": "code",
      "source": [
        "# f-string\n",
        "text = f\"Hello! my name is {my_name} and I'm {my_age} years old.\"\n",
        "print(text) "
      ],
      "metadata": {
        "colab": {
          "base_uri": "https://localhost:8080/"
        },
        "id": "ekTOvsL9zsd4",
        "outputId": "7d5bff30-7761-412d-8283-e4bbfcd9e385"
      },
      "execution_count": null,
      "outputs": [
        {
          "output_type": "stream",
          "name": "stdout",
          "text": [
            "Hello! my name is nueng and I'm 31 years old.\n"
          ]
        }
      ]
    },
    {
      "cell_type": "code",
      "source": [
        "# type hinting คำใบ้ฃ\n",
        "# int float str bool\n",
        "name: str = \"nueng\"\n",
        "age: int = 31\n",
        "gpa: float = 2.89\n",
        "movie_lover: bool = True\n",
        "\n",
        "print(type(name))\n",
        "print(type(age))\n",
        "isinstance(gpa,float)\n"
      ],
      "metadata": {
        "colab": {
          "base_uri": "https://localhost:8080/"
        },
        "id": "ioh9KLk50KrU",
        "outputId": "4e3ab6b0-a65c-4075-f904-99036bbab732"
      },
      "execution_count": null,
      "outputs": [
        {
          "output_type": "stream",
          "name": "stdout",
          "text": [
            "<class 'str'>\n",
            "<class 'int'>\n"
          ]
        },
        {
          "output_type": "execute_result",
          "data": {
            "text/plain": [
              "True"
            ]
          },
          "metadata": {},
          "execution_count": 45
        }
      ]
    },
    {
      "cell_type": "markdown",
      "source": [
        "## **Fuction**"
      ],
      "metadata": {
        "id": "9vt_gdIcaBDw"
      }
    },
    {
      "cell_type": "code",
      "source": [
        " def greeting():\n",
        "     print(\"hello world\")"
      ],
      "metadata": {
        "id": "Tm0MQJUn1_em"
      },
      "execution_count": null,
      "outputs": []
    },
    {
      "cell_type": "code",
      "source": [
        "greeting()"
      ],
      "metadata": {
        "colab": {
          "base_uri": "https://localhost:8080/"
        },
        "id": "Exj7wxMM2t6l",
        "outputId": "44b19b58-0814-4a03-cfd1-da4a929e93fc"
      },
      "execution_count": null,
      "outputs": [
        {
          "output_type": "stream",
          "name": "stdout",
          "text": [
            "hello world\n"
          ]
        }
      ]
    },
    {
      "cell_type": "code",
      "source": [
        "# default argument\n",
        "def greeting_name(name, city=\"London\"):\n",
        "    print(f\"Hello! {name}. We live in {city}.\")"
      ],
      "metadata": {
        "id": "OsH6rgv-2wrW"
      },
      "execution_count": null,
      "outputs": []
    },
    {
      "cell_type": "code",
      "source": [
        "greeting_name(\"John\")\n",
        "greeting_name(\"John\",city =\"Manchester\")"
      ],
      "metadata": {
        "colab": {
          "base_uri": "https://localhost:8080/"
        },
        "id": "lJB-4rM_27cs",
        "outputId": "24a084ff-9056-4ed2-8a8b-fe2c456d04ea"
      },
      "execution_count": null,
      "outputs": [
        {
          "output_type": "stream",
          "name": "stdout",
          "text": [
            "Hello! John. We live in London.\n",
            "Hello! John. We live in Manchester.\n"
          ]
        }
      ]
    },
    {
      "cell_type": "code",
      "source": [
        "#get input form user\n",
        "#input () get string input\n",
        "name = input (\"What's your name? \")\n",
        "print(f\"greeting {name}!\")"
      ],
      "metadata": {
        "colab": {
          "base_uri": "https://localhost:8080/"
        },
        "id": "H_OaKgZN3UYI",
        "outputId": "405e4300-e25e-4f16-b06c-de4ee003ffc1"
      },
      "execution_count": null,
      "outputs": [
        {
          "output_type": "stream",
          "name": "stdout",
          "text": [
            "What's your name? Anna\n",
            "greeting Anna!\n"
          ]
        }
      ]
    },
    {
      "cell_type": "code",
      "source": [
        "def greeting_name2():\n",
        "    name = input (\"What's your name? \")\n",
        "    print(f\"Greeting {name}!\")"
      ],
      "metadata": {
        "id": "CadONGUc4hBA"
      },
      "execution_count": null,
      "outputs": []
    },
    {
      "cell_type": "code",
      "source": [
        "greeting_name2()"
      ],
      "metadata": {
        "colab": {
          "base_uri": "https://localhost:8080/"
        },
        "id": "q6NjZeFz43f_",
        "outputId": "fa7b8d18-671f-46a4-8059-42fca1ca38b6"
      },
      "execution_count": null,
      "outputs": [
        {
          "output_type": "stream",
          "name": "stdout",
          "text": [
            "What's your name? Anna\n",
            "Greeting Anna!\n"
          ]
        }
      ]
    },
    {
      "cell_type": "code",
      "source": [
        "# lambda function\n",
        "def add_two_nums(a, b):\n",
        "    return a+b\n",
        "\n",
        "result = add_two_nums(10,2020)\n",
        "print(result)"
      ],
      "metadata": {
        "colab": {
          "base_uri": "https://localhost:8080/"
        },
        "id": "VfLYzcO05Qah",
        "outputId": "1ee23871-d808-47ed-d602-dee3ab9d290d"
      },
      "execution_count": null,
      "outputs": [
        {
          "output_type": "stream",
          "name": "stdout",
          "text": [
            "2030\n"
          ]
        }
      ]
    },
    {
      "cell_type": "code",
      "source": [
        "add_two_nums = lambda a,b: a+b\n",
        "add_two_nums(10, 15)"
      ],
      "metadata": {
        "colab": {
          "base_uri": "https://localhost:8080/"
        },
        "id": "O42X-f-15mHo",
        "outputId": "eea0c05e-5bef-4331-9d0e-533c48996b6c"
      },
      "execution_count": null,
      "outputs": [
        {
          "output_type": "execute_result",
          "data": {
            "text/plain": [
              "25"
            ]
          },
          "metadata": {},
          "execution_count": 81
        }
      ]
    },
    {
      "cell_type": "code",
      "source": [
        "greeting = lambda name: f\"Hello ! {name}\"\n",
        "result = greeting(\"nueng\")\n",
        "print(result)"
      ],
      "metadata": {
        "colab": {
          "base_uri": "https://localhost:8080/"
        },
        "id": "pJFsnAtA532q",
        "outputId": "e0c4df5d-355b-4503-8dba-9e003b6584cf"
      },
      "execution_count": null,
      "outputs": [
        {
          "output_type": "stream",
          "name": "stdout",
          "text": [
            "Hello ! nueng\n"
          ]
        }
      ]
    },
    {
      "cell_type": "markdown",
      "source": [
        "## **String**"
      ],
      "metadata": {
        "id": "jAvEqVbYR5Sj"
      }
    },
    {
      "cell_type": "code",
      "source": [
        "\n",
        "long_text = \"\"\"hello world\n",
        "I'm learning python\n",
        "It's as easy as R!\n",
        "Cool!\"\"\"\n",
        "\n",
        "print(long_text)"
      ],
      "metadata": {
        "colab": {
          "base_uri": "https://localhost:8080/"
        },
        "id": "fVJpOyy26NNk",
        "outputId": "c288fcc7-8511-4750-cd7e-7bdb8b95ef80"
      },
      "execution_count": null,
      "outputs": [
        {
          "output_type": "stream",
          "name": "stdout",
          "text": [
            "hello world\n",
            "I'm learning python\n",
            "It's as easy as R!\n",
            "Cool!\n"
          ]
        }
      ]
    },
    {
      "cell_type": "code",
      "source": [
        "def greeting():\n",
        "    \"\"\"Greeting a user\n",
        "    input: user_name\n",
        "    output: xxx\n",
        "    \"\"\"\n",
        "    print(\"Hello!\")"
      ],
      "metadata": {
        "id": "bsnKH2XM7dEB"
      },
      "execution_count": null,
      "outputs": []
    },
    {
      "cell_type": "code",
      "source": [
        "text =\"a duck walks into a bar ....\"\n",
        "len(\"python\")"
      ],
      "metadata": {
        "colab": {
          "base_uri": "https://localhost:8080/"
        },
        "id": "TBYtQ9MM76F9",
        "outputId": "f02d8784-cab9-47b0-a46f-b2be71fa6ed7"
      },
      "execution_count": null,
      "outputs": [
        {
          "output_type": "execute_result",
          "data": {
            "text/plain": [
              "6"
            ]
          },
          "metadata": {},
          "execution_count": 89
        }
      ]
    },
    {
      "cell_type": "code",
      "source": [
        "# function vs. method\n",
        "print(len(text))\n",
        "print(text)"
      ],
      "metadata": {
        "colab": {
          "base_uri": "https://localhost:8080/"
        },
        "id": "FKcGl-0n7_dQ",
        "outputId": "6e1369a6-958a-4e96-f403-097c6631c15c"
      },
      "execution_count": null,
      "outputs": [
        {
          "output_type": "stream",
          "name": "stdout",
          "text": [
            "28\n",
            "a duck walks into a bar ....\n"
          ]
        }
      ]
    },
    {
      "cell_type": "code",
      "source": [
        "#  method = function designed for specific class ​method เป็น function ที่ใช้กับ specific class\n",
        "text =\"a duck walks into a bar ....\""
      ],
      "metadata": {
        "id": "TRdocH728LgT"
      },
      "execution_count": null,
      "outputs": []
    },
    {
      "cell_type": "code",
      "source": [
        "# strinf methods\n",
        "text.upper()\n",
        "text.lower()\n",
        "text = text.replace(\"duck\",\"lion\")\n",
        "print(text)"
      ],
      "metadata": {
        "colab": {
          "base_uri": "https://localhost:8080/"
        },
        "id": "XgrvpzNg8bvb",
        "outputId": "81200689-a534-4bf0-9c41-9868e3b99fea"
      },
      "execution_count": null,
      "outputs": [
        {
          "output_type": "stream",
          "name": "stdout",
          "text": [
            "a lion walks into a bar ....\n"
          ]
        }
      ]
    },
    {
      "cell_type": "code",
      "source": [
        "# strip\n",
        "\"     hello world    \".strip(\" \")\n",
        "text = text.strip(\".\")\n",
        "print(text)"
      ],
      "metadata": {
        "colab": {
          "base_uri": "https://localhost:8080/"
        },
        "id": "qwrxENW98dWp",
        "outputId": "c81a622f-ea94-472d-cce0-adf1e60ef223"
      },
      "execution_count": null,
      "outputs": [
        {
          "output_type": "stream",
          "name": "stdout",
          "text": [
            "a lion walks into a bar \n"
          ]
        }
      ]
    },
    {
      "cell_type": "code",
      "source": [
        "# count a\n",
        "text.count(\"a\")"
      ],
      "metadata": {
        "colab": {
          "base_uri": "https://localhost:8080/"
        },
        "id": "5Kyj6D0e89zP",
        "outputId": "8091f6b4-44c4-422c-cf83-308ac4fdfba1"
      },
      "execution_count": null,
      "outputs": [
        {
          "output_type": "execute_result",
          "data": {
            "text/plain": [
              "4"
            ]
          },
          "metadata": {},
          "execution_count": 99
        }
      ]
    },
    {
      "cell_type": "code",
      "source": [
        "# split text\n",
        "split_text = text.split(\" \")\n",
        "print(split_text)"
      ],
      "metadata": {
        "colab": {
          "base_uri": "https://localhost:8080/"
        },
        "id": "Di6xDZlo9Qdv",
        "outputId": "885e434f-d090-4ade-82e0-7af33e18bdef"
      },
      "execution_count": null,
      "outputs": [
        {
          "output_type": "stream",
          "name": "stdout",
          "text": [
            "['a', 'lion', 'walks', 'into', 'a', 'bar', '']\n"
          ]
        }
      ]
    },
    {
      "cell_type": "code",
      "source": [
        "\"++\".join(split_text)"
      ],
      "metadata": {
        "colab": {
          "base_uri": "https://localhost:8080/",
          "height": 35
        },
        "id": "5KML_7mx9kmK",
        "outputId": "3d21e28a-c6e1-41bf-b2c0-8c411259ed62"
      },
      "execution_count": null,
      "outputs": [
        {
          "output_type": "execute_result",
          "data": {
            "text/plain": [
              "'a++lion++walks++into++a++bar++'"
            ],
            "application/vnd.google.colaboratory.intrinsic+json": {
              "type": "string"
            }
          },
          "metadata": {},
          "execution_count": 103
        }
      ]
    },
    {
      "cell_type": "code",
      "source": [
        "# subset/indexing\n",
        "# python index starts with 0\n",
        "\n",
        "language = \"Python\"\n",
        "len(language)\n",
        "print(language[1])\n",
        "print(language[5])\n",
        "print(language[-1]) # the last character"
      ],
      "metadata": {
        "colab": {
          "base_uri": "https://localhost:8080/"
        },
        "id": "_BaUAHaZ95C7",
        "outputId": "dd985470-0083-4923-861c-f2be30c71a83"
      },
      "execution_count": null,
      "outputs": [
        {
          "output_type": "stream",
          "name": "stdout",
          "text": [
            "y\n",
            "n\n",
            "n\n"
          ]
        }
      ]
    },
    {
      "cell_type": "code",
      "source": [
        "language[0:2 ] #up to not include\n",
        "language[1: 4] "
      ],
      "metadata": {
        "id": "-0Vjy9vM-PuB"
      },
      "execution_count": null,
      "outputs": []
    },
    {
      "cell_type": "code",
      "source": [
        "language2 = \"C\" + language[1:]\n",
        "print(language2)"
      ],
      "metadata": {
        "colab": {
          "base_uri": "https://localhost:8080/"
        },
        "id": "AVg3n77W-8yZ",
        "outputId": "c099cab7-7bc1-4af5-8344-75f089e68efe"
      },
      "execution_count": null,
      "outputs": [
        {
          "output_type": "stream",
          "name": "stdout",
          "text": [
            "Cython\n"
          ]
        }
      ]
    },
    {
      "cell_type": "markdown",
      "source": [
        "## Data Scrtuctures\n",
        "- list\n",
        "- tulple \n",
        "- dictionary\n",
        "- set\n",
        "\n",
        "list กับ tuple ไว้เก็บข้อมูลเป็น order แต่ต่างกันที่list- mutable ส่วน tuple-immutable ส่วน dictionary จะเป็นkey-value pair"
      ],
      "metadata": {
        "id": "nEAtqD5o_zRd"
      }
    },
    {
      "cell_type": "code",
      "source": [
        "# Create a new list\n",
        "shopping_list = [\"egg\", \"mile\", \"bread\", \"tomato\"]\n",
        "type(shopping_list)\n",
        "shopping_list"
      ],
      "metadata": {
        "id": "3TUMDTkY_-Rx"
      },
      "execution_count": null,
      "outputs": []
    },
    {
      "cell_type": "code",
      "source": [
        "print(shopping_list[0])\n",
        "print(shopping_list[1])\n",
        "print(shopping_list[2])\n",
        "print(shopping_list[3])\n",
        "print(shopping_list[-1])"
      ],
      "metadata": {
        "colab": {
          "base_uri": "https://localhost:8080/"
        },
        "id": "WqjFJnZOAJ5G",
        "outputId": "f6829ba1-43be-4766-9cc8-fcec02cab921"
      },
      "execution_count": null,
      "outputs": [
        {
          "output_type": "stream",
          "name": "stdout",
          "text": [
            "egg\n",
            "mile\n",
            "bread\n",
            "tomato\n",
            "tomato\n"
          ]
        }
      ]
    },
    {
      "cell_type": "code",
      "source": [
        "# mutable vs. immutable object\n",
        "print(shopping_list)\n",
        "\n",
        "shopping_list[0] = \"chicken 1kg\"\n",
        "print(shopping_list)"
      ],
      "metadata": {
        "colab": {
          "base_uri": "https://localhost:8080/"
        },
        "id": "kBAPQX6zANG3",
        "outputId": "6a71a430-250f-42ff-f30a-c9bfd4c23b46"
      },
      "execution_count": null,
      "outputs": [
        {
          "output_type": "stream",
          "name": "stdout",
          "text": [
            "['chicken 1kg', 'mile', 'bread', 'tomato']\n",
            "['chicken 1kg', 'mile', 'bread', 'tomato']\n"
          ]
        }
      ]
    },
    {
      "cell_type": "code",
      "source": [
        "## mutable => list, dictionary\n",
        "## immutable => turple, str"
      ],
      "metadata": {
        "id": "ULH9-P2xAxPf"
      },
      "execution_count": null,
      "outputs": []
    },
    {
      "cell_type": "code",
      "source": [
        "shopping_list = [\"egg\", \"milk\", \"bread\", \"tomato\"]"
      ],
      "metadata": {
        "id": "JCVBmp1yEEA8"
      },
      "execution_count": null,
      "outputs": []
    },
    {
      "cell_type": "code",
      "source": [
        "# list method (fuction designed for list)\n",
        "\n",
        "shopping_list.append(\"french fried\")\n",
        "print(shopping_list)"
      ],
      "metadata": {
        "colab": {
          "base_uri": "https://localhost:8080/"
        },
        "id": "iemYqT1ODkf3",
        "outputId": "a0983206-f2a7-4b98-de60-ca27f8b43512"
      },
      "execution_count": null,
      "outputs": [
        {
          "output_type": "stream",
          "name": "stdout",
          "text": [
            "['egg', 'mile', 'bread', 'tomato', 'french fried', 'pizza', 'french fried']\n"
          ]
        }
      ]
    },
    {
      "cell_type": "code",
      "source": [
        "shopping_list.pop()\n",
        "print(shopping_list)"
      ],
      "metadata": {
        "colab": {
          "base_uri": "https://localhost:8080/"
        },
        "id": "59l_B6jUDwku",
        "outputId": "f9d1b028-2732-443f-d4d9-214b624c53b9"
      },
      "execution_count": null,
      "outputs": [
        {
          "output_type": "stream",
          "name": "stdout",
          "text": [
            "['egg', 'mile', 'bread', 'tomato']\n"
          ]
        }
      ]
    },
    {
      "cell_type": "code",
      "source": [
        "shopping_list.append(\"egg\")\n",
        "print(shopping_list)"
      ],
      "metadata": {
        "colab": {
          "base_uri": "https://localhost:8080/"
        },
        "id": "DrvQfX-2EMR-",
        "outputId": "a63dda73-9f83-4e61-a25c-b66fdcb9b3d4"
      },
      "execution_count": null,
      "outputs": [
        {
          "output_type": "stream",
          "name": "stdout",
          "text": [
            "['egg', 'mile', 'bread', 'tomato', 'egg', 'egg']\n"
          ]
        }
      ]
    },
    {
      "cell_type": "code",
      "source": [
        "shopping_list.count(\"egg\")"
      ],
      "metadata": {
        "colab": {
          "base_uri": "https://localhost:8080/"
        },
        "id": "DtbgAGkOEaud",
        "outputId": "f89d3ced-e471-47dc-fbbd-ee5e616f611c"
      },
      "execution_count": null,
      "outputs": [
        {
          "output_type": "execute_result",
          "data": {
            "text/plain": [
              "3"
            ]
          },
          "metadata": {},
          "execution_count": 158
        }
      ]
    },
    {
      "cell_type": "code",
      "source": [
        "shopping_list.sort(reverse=True)"
      ],
      "metadata": {
        "id": "bya5L-MOEiow"
      },
      "execution_count": null,
      "outputs": []
    },
    {
      "cell_type": "code",
      "source": [
        "shopping_list"
      ],
      "metadata": {
        "colab": {
          "base_uri": "https://localhost:8080/"
        },
        "id": "bPAu7podE1I4",
        "outputId": "088a6a52-ecd8-4c57-ea70-410aa6fad7ea"
      },
      "execution_count": null,
      "outputs": [
        {
          "output_type": "execute_result",
          "data": {
            "text/plain": [
              "['tomato', 'mile', 'egg', 'bread']"
            ]
          },
          "metadata": {},
          "execution_count": 162
        }
      ]
    },
    {
      "cell_type": "code",
      "source": [
        "shopping_list.remove(\"mike\")\n",
        "shopping_list"
      ],
      "metadata": {
        "id": "Y3EkzuoIE3Mb"
      },
      "execution_count": null,
      "outputs": []
    },
    {
      "cell_type": "code",
      "source": [
        "shopping_list.insert(1,\"milk\")\n",
        "shopping_list"
      ],
      "metadata": {
        "colab": {
          "base_uri": "https://localhost:8080/"
        },
        "id": "KzJUIxJqFBYC",
        "outputId": "fa73acb5-d89a-4380-869d-931c29b1f91d"
      },
      "execution_count": null,
      "outputs": [
        {
          "output_type": "execute_result",
          "data": {
            "text/plain": [
              "['tomato', 'milk', 'milk', 'egg', 'bread']"
            ]
          },
          "metadata": {},
          "execution_count": 170
        }
      ]
    },
    {
      "cell_type": "markdown",
      "source": [
        "## Control Flow\n",
        "- for\n",
        "- while\n",
        "- ifelse"
      ],
      "metadata": {
        "id": "RFDpvqwNFZth"
      }
    },
    {
      "cell_type": "code",
      "source": [
        "shopping_list = [\n",
        "    (\"egg\", 10),\n",
        "    (\"milk\", 5),\n",
        "    (\"bread\", 20),\n",
        "    (\"tomato\",12)\n",
        "]\n",
        "print(shopping_list)"
      ],
      "metadata": {
        "id": "1dRkRAMtFOpl",
        "colab": {
          "base_uri": "https://localhost:8080/"
        },
        "outputId": "af69e83e-9a6b-4aeb-bfdd-f5ff470a870c"
      },
      "execution_count": null,
      "outputs": [
        {
          "output_type": "stream",
          "name": "stdout",
          "text": [
            "[('egg', 10), ('milk', 5), ('bread', 20), ('tomato', 12)]\n"
          ]
        }
      ]
    },
    {
      "cell_type": "code",
      "source": [
        "for item in shopping_list:\n",
        "    print(f\"Product:  {item[0]}  Unit: {item[1]}\")"
      ],
      "metadata": {
        "colab": {
          "base_uri": "https://localhost:8080/"
        },
        "id": "0VbEmxbaFm0Q",
        "outputId": "1cc31656-a57f-42ad-8c2d-2b8d503b5691"
      },
      "execution_count": null,
      "outputs": [
        {
          "output_type": "stream",
          "name": "stdout",
          "text": [
            "Product:  egg  Unit: 10\n",
            "Product:  milk  Unit: 5\n",
            "Product:  bread  Unit: 20\n",
            "Product:  tomato  Unit: 12\n"
          ]
        }
      ]
    },
    {
      "cell_type": "code",
      "source": [
        "#  bonus list comprehension\n"
      ],
      "metadata": {
        "id": "LdG86khMFsTr"
      },
      "execution_count": null,
      "outputs": []
    },
    {
      "cell_type": "code",
      "source": [
        "numbers = [1,2,3,4,5]"
      ],
      "metadata": {
        "id": "xd-PhMVEGLJC"
      },
      "execution_count": null,
      "outputs": []
    },
    {
      "cell_type": "code",
      "source": [
        "new_numbers = []\n",
        "for num in numbers:\n",
        "    new_numbers.append(num*2)\n",
        "\n",
        "print(new_numbers)"
      ],
      "metadata": {
        "colab": {
          "base_uri": "https://localhost:8080/"
        },
        "id": "7bdpwnwgHW64",
        "outputId": "48bcce31-0225-4c5f-9cc9-fa6a19f9dc4e"
      },
      "execution_count": null,
      "outputs": [
        {
          "output_type": "stream",
          "name": "stdout",
          "text": [
            "[2, 4, 6, 8, 10]\n"
          ]
        }
      ]
    },
    {
      "cell_type": "code",
      "source": [],
      "metadata": {
        "id": "HXSkyjAbN9lb"
      },
      "execution_count": null,
      "outputs": []
    },
    {
      "cell_type": "code",
      "source": [
        "# list comprehension\n",
        "numbers = [1,2,3,4,5]\n",
        "new_numbers = [num*2 for num in numbers]\n",
        "\n",
        "print(new_numbers)"
      ],
      "metadata": {
        "colab": {
          "base_uri": "https://localhost:8080/"
        },
        "id": "c47GzJdYHgiF",
        "outputId": "f0fa28dd-644e-4a7d-a0d5-b511a228e903"
      },
      "execution_count": null,
      "outputs": [
        {
          "output_type": "stream",
          "name": "stdout",
          "text": [
            "[2, 4, 6, 8, 10]\n"
          ]
        }
      ]
    },
    {
      "cell_type": "code",
      "source": [
        "students = [\n",
        "    (1, \"toy\", \"bangkok\"),\n",
        "    (2, \"david\", \"london\"),\n",
        "    (3, \"anna\",\"madrid\")\n",
        "]\n",
        "\n",
        "for student in students:\n",
        "    print(f\"ID:0 {student[0]} Name: {student[1]} City: {student[2].upper()}\")"
      ],
      "metadata": {
        "colab": {
          "base_uri": "https://localhost:8080/"
        },
        "id": "P62hwq82IbVM",
        "outputId": "b85b1bdd-76d5-43a3-82b8-e48f5dfd77ca"
      },
      "execution_count": null,
      "outputs": [
        {
          "output_type": "stream",
          "name": "stdout",
          "text": [
            "ID:0 1 Name: toy City: BANGKOK\n",
            "ID:0 2 Name: david City: LONDON\n",
            "ID:0 3 Name: anna City: MADRID\n"
          ]
        }
      ]
    },
    {
      "cell_type": "code",
      "source": [
        "# example of set\n",
        "food_set ={\"pizza\", \"chicken\", \"Coke\", \"coke\", \"pizza\"}\n",
        "type(food_set)"
      ],
      "metadata": {
        "id": "YLuyGyk2JI0_",
        "colab": {
          "base_uri": "https://localhost:8080/"
        },
        "outputId": "829f8f0c-07b4-4c43-be95-e5e0954d361e"
      },
      "execution_count": null,
      "outputs": [
        {
          "output_type": "execute_result",
          "data": {
            "text/plain": [
              "set"
            ]
          },
          "metadata": {},
          "execution_count": 238
        }
      ]
    },
    {
      "cell_type": "code",
      "source": [
        "food_set"
      ],
      "metadata": {
        "colab": {
          "base_uri": "https://localhost:8080/"
        },
        "id": "eComGc2eJk_l",
        "outputId": "0b76b01a-a437-467b-cf52-02181d3cd6df"
      },
      "execution_count": null,
      "outputs": [
        {
          "output_type": "execute_result",
          "data": {
            "text/plain": [
              "{'Coke', 'chicken', 'coke', 'pizza'}"
            ]
          },
          "metadata": {},
          "execution_count": 239
        }
      ]
    },
    {
      "cell_type": "code",
      "source": [
        "food_list = [\"pizza\", \"chicken\", \"coke\", \"coke\", \"pizza\"]\n",
        "set(food_list)\n",
        "len(set(food_list))"
      ],
      "metadata": {
        "colab": {
          "base_uri": "https://localhost:8080/"
        },
        "id": "p6BAKqQoJokl",
        "outputId": "195e93f2-ddce-4bfa-f551-25be83e028d4"
      },
      "execution_count": null,
      "outputs": [
        {
          "output_type": "execute_result",
          "data": {
            "text/plain": [
              "3"
            ]
          },
          "metadata": {},
          "execution_count": 240
        }
      ]
    },
    {
      "cell_type": "code",
      "source": [
        "# dictionary\n",
        "# key-value pair\n"
      ],
      "metadata": {
        "id": "jbNzUv3SJ8r4"
      },
      "execution_count": null,
      "outputs": []
    },
    {
      "cell_type": "code",
      "source": [
        "customer = {\n",
        "    \"name\": \"toy\",\n",
        "    \"age\" : 32,\n",
        "    \"location\":\"bangkok\",\n",
        "    \"movie_lover\" : True,\n",
        "    \"movie_fav\" : [\"Thor\",\"Superman\",\"Batman\"],\n",
        "    \"shopping_list\" : (\"egg\",10),\n",
        "    \"books\" : {\"name\":\"Think Like a Freak\",\"year\":2006}\n",
        "}"
      ],
      "metadata": {
        "id": "4LbRVaphKZOl"
      },
      "execution_count": null,
      "outputs": []
    },
    {
      "cell_type": "code",
      "source": [
        "customer[\"location\"]"
      ],
      "metadata": {
        "colab": {
          "base_uri": "https://localhost:8080/",
          "height": 35
        },
        "id": "QOL-I6CFLIdj",
        "outputId": "16b593a0-ac46-4c80-e72f-07b0a60816eb"
      },
      "execution_count": null,
      "outputs": [
        {
          "output_type": "execute_result",
          "data": {
            "text/plain": [
              "'bangkok'"
            ],
            "application/vnd.google.colaboratory.intrinsic+json": {
              "type": "string"
            }
          },
          "metadata": {},
          "execution_count": 243
        }
      ]
    },
    {
      "cell_type": "code",
      "source": [
        "# for loop in dictionary\n",
        "for key, value in customer.items():\n",
        "    print(f\"{key}: {value}\" )"
      ],
      "metadata": {
        "colab": {
          "base_uri": "https://localhost:8080/"
        },
        "id": "KRqsc8DtLJkq",
        "outputId": "155d33d9-3349-4c85-b271-e18578c00d93"
      },
      "execution_count": null,
      "outputs": [
        {
          "output_type": "stream",
          "name": "stdout",
          "text": [
            "name: toy\n",
            "age: 32\n",
            "location: bangkok\n",
            "movie_lover: True\n",
            "movie_fav: ['Thor', 'Superman', 'Batman']\n",
            "shopping_list: ('egg', 10)\n",
            "books: {'name': 'Think Like a Freak', 'year': 2006}\n"
          ]
        }
      ]
    },
    {
      "cell_type": "markdown",
      "source": [
        "## Control Flow (Continue)\n",
        "- for\n",
        "- while\n",
        "- ifelse"
      ],
      "metadata": {
        "id": "Yi-Ct0SPL80h"
      }
    },
    {
      "cell_type": "code",
      "source": [
        "count = 0 \n",
        "while count <10: \n",
        "    print (\"hello!\")\n",
        "    # count = count + 1"
      ],
      "metadata": {
        "colab": {
          "base_uri": "https://localhost:8080/"
        },
        "id": "M-ZWFkcaLqy3",
        "outputId": "8f8a910c-79e3-4e1b-e67b-eab287c35ea9"
      },
      "execution_count": null,
      "outputs": [
        {
          "output_type": "stream",
          "name": "stdout",
          "text": [
            "hello!\n",
            "hello!\n",
            "hello!\n",
            "hello!\n",
            "hello!\n",
            "hello!\n",
            "hello!\n",
            "hello!\n",
            "hello!\n",
            "hello!\n"
          ]
        }
      ]
    },
    {
      "cell_type": "code",
      "source": [
        "# Game : guess animal name\n",
        "def guess_animal_name():\n",
        "    correct_name = \"hippo\"\n",
        "    while True:\n",
        "        user_guess = input(\"Guess the animal name: \")\n",
        "        if user_guess == correct_name:\n",
        "            print(\"congratulations!!\")\n",
        "            break\n",
        "        else:\n",
        "            print(\"Please try again :) \")"
      ],
      "metadata": {
        "id": "uyk0MgFgMKn7"
      },
      "execution_count": null,
      "outputs": []
    },
    {
      "cell_type": "code",
      "source": [
        "guess_animal_name()"
      ],
      "metadata": {
        "colab": {
          "base_uri": "https://localhost:8080/"
        },
        "id": "YkZmoL01NePK",
        "outputId": "e51ac6cc-0a64-4bdd-b5c1-b8f9f9eccfb6"
      },
      "execution_count": null,
      "outputs": [
        {
          "output_type": "stream",
          "name": "stdout",
          "text": [
            "Guess the animal name: lion\n",
            "Please try again :) \n",
            "Guess the animal name: duck\n",
            "Please try again :) \n",
            "Guess the animal name: ant\n",
            "Please try again :) \n",
            "Guess the animal name: hippo\n",
            "congratulations!!\n"
          ]
        }
      ]
    },
    {
      "cell_type": "code",
      "source": [
        "#if - else\n",
        "def grading(score):\n",
        "    if score >= 80:\n",
        "        return \"A\"\n",
        "    elif score >= 70:\n",
        "        return \"B\"\n",
        "    elif score >= 60:\n",
        "        return \"C\"\n",
        "    elif score >= 50:\n",
        "        return \"D\"\n",
        "    else:\n",
        "        return \"Failed\"\n",
        "        "
      ],
      "metadata": {
        "id": "C_7j6X1iNhem"
      },
      "execution_count": null,
      "outputs": []
    },
    {
      "cell_type": "code",
      "source": [
        "grading(99)"
      ],
      "metadata": {
        "colab": {
          "base_uri": "https://localhost:8080/",
          "height": 35
        },
        "id": "UKX837yJPTZf",
        "outputId": "d405f4e8-dcc3-4136-d1b3-f86de80464f0"
      },
      "execution_count": null,
      "outputs": [
        {
          "output_type": "execute_result",
          "data": {
            "text/plain": [
              "'A'"
            ],
            "application/vnd.google.colaboratory.intrinsic+json": {
              "type": "string"
            }
          },
          "metadata": {},
          "execution_count": 216
        }
      ]
    },
    {
      "cell_type": "code",
      "source": [
        "scores = [90, 85, 72, 82, 65]\n"
      ],
      "metadata": {
        "id": "q5HYQ70kPWcZ"
      },
      "execution_count": null,
      "outputs": []
    },
    {
      "cell_type": "code",
      "source": [
        "grades = []\n",
        "for score in scores:\n",
        "    result = grading(score)\n",
        "    grades.append((result,score))\n",
        "\n",
        "print(grades)"
      ],
      "metadata": {
        "colab": {
          "base_uri": "https://localhost:8080/"
        },
        "id": "6fFrE1UlPWhr",
        "outputId": "5dcc089b-e68c-4ec2-9402-a9082b4b5e60"
      },
      "execution_count": null,
      "outputs": [
        {
          "output_type": "stream",
          "name": "stdout",
          "text": [
            "[('A', 90), ('A', 85), ('B', 72), ('A', 82), ('C', 65)]\n"
          ]
        }
      ]
    },
    {
      "cell_type": "code",
      "source": [
        "scores = [90, 85, 72, 82, 65]\n"
      ],
      "metadata": {
        "id": "gd8zRNt5PuRh"
      },
      "execution_count": null,
      "outputs": []
    },
    {
      "cell_type": "code",
      "source": [
        "map(grading, scores)\n",
        "list(map(grading, scores))\n",
        "\n",
        "new_grade = list(map(grading, scores))\n",
        "print(new_grade)"
      ],
      "metadata": {
        "colab": {
          "base_uri": "https://localhost:8080/"
        },
        "id": "JN9GXRFRP_l-",
        "outputId": "277433f8-42db-49c1-b7b8-0b7942fee575"
      },
      "execution_count": null,
      "outputs": [
        {
          "output_type": "stream",
          "name": "stdout",
          "text": [
            "['A', 'A', 'B', 'A', 'C']\n"
          ]
        }
      ]
    },
    {
      "cell_type": "code",
      "source": [
        "# if else - and , or , not\n",
        "\n",
        "day = \"Monday\"\n",
        "time = \"2pm\"\n",
        "\n",
        "if day == \"Monday\" and time == \"2pm\" :\n",
        "    print(\"Coffee\")\n",
        "else:\n",
        "    print(\"หิวมาก กินอะไรก็ได้\")"
      ],
      "metadata": {
        "colab": {
          "base_uri": "https://localhost:8080/"
        },
        "id": "SEjIDDKKQbpj",
        "outputId": "8968a832-8dc4-44a7-9b7a-1ed31313be36"
      },
      "execution_count": null,
      "outputs": [
        {
          "output_type": "stream",
          "name": "stdout",
          "text": [
            "Coffee\n"
          ]
        }
      ]
    },
    {
      "cell_type": "markdown",
      "source": [
        "## **OOP**\n",
        "Object Oriented Programming\n",
        "\n",
        "`class` to create new Class\n",
        "\n",
        "`OOP opject oriented Programming `- การเขียนโปรแกรมเชิงวัตถุ โดยให้มองโค้ดเป็น object ง่ายๆคือเป็นสิ่งที่เราหยิบมาเพื่อช่วยให้โค้ดของเราง่ายขึ้นโดยต้องมีคุณสมบัติ และพฤติกรรม \n",
        "มี4องค์ประกอบ\n",
        "\n",
        "1`encapsulation` ห่อวัตถุที่มีสถานะprivateในclass ทำให้ซ่อนการมองเห็น/การเข้าถึงจากpublicได้ เอาง่ายๆคือเราแค่เรียกคำสั่งที่เปิดให้ โดยที่ภายในนั้นจะจัดการเองคนนอกไม่ต้องรู้(ถ้าไม่มีการห่อแต่ละobjectเข้าถึงและเปลี่ยนแปลงคุณสมบัติของobjectอื่นได้อาจจะเกิดerrorได้)\n",
        "\n",
        "2 `abstraction` รู้แค่ที่จำเป็นเช่นตอนเราใช้fb ytเราก็เห็นแค่หน้าui interfaceของมันไม่ทราบถึงการทำงานเบื้องหลัง\n",
        "\n",
        "3 `inheritance` เอาคุณสมบัติclass นึงไปสร้างอีกclassสามารถนำอีกclassไปพัฒนาต่อได้ (reuse codeที่เป็นclass)\n",
        "\n",
        "4 `polymorphism` กำหนดชื่อพฤติกรรม ให้classที่มาสืบทอดเอาไปสร้างการทำงานเอง"
      ],
      "metadata": {
        "id": "7J7nRU-BRZhe"
      }
    },
    {
      "cell_type": "code",
      "source": [
        "class Dog:\n",
        "    # consructor ==> initializtion\n",
        "    def __init__(self, name, age, species, energy):\n",
        "         self.name = name\n",
        "         self.age = age\n",
        "         self.species = species\n",
        "         self.energy = energy\n",
        "    \n",
        "    def __str__(self):\n",
        "        return \"I'm a dog :D\"\n",
        "\n",
        "    # methods\n",
        "    def greeting(self):\n",
        "        print(f\"Hi my name is {self.name}! and I'm {self.species}\")\n",
        "\n",
        "    def eating(self, food):\n",
        "        print(f\"I'm eating {food} and it's delicious\")\n",
        "\n",
        "    def play(self, activity):\n",
        "        if activity ==\"sleeping\":\n",
        "            self.energy += 10\n",
        "        elif activity == \"running\":\n",
        "            self.energy -= 20\n",
        "        else:\n",
        "            self.energy -= 5\n",
        "        print(f\"Energy level: {self.energy}\")"
      ],
      "metadata": {
        "id": "iThGkMRXT52Q"
      },
      "execution_count": null,
      "outputs": []
    },
    {
      "cell_type": "code",
      "source": [
        "# Create instances\n",
        "dog1 = Dog(\"Jojo\", 3, \"Golden\",100)\n",
        "dog2 = Dog(\"Happy\", 2, \"French Bulldog\",200)\n",
        "\n",
        "dog1.greeting()\n",
        "dog1.eating(\"hotdog\")\n"
      ],
      "metadata": {
        "colab": {
          "base_uri": "https://localhost:8080/"
        },
        "id": "c40L4eYKUpl3",
        "outputId": "56a7b17a-b05a-4f29-ab96-6ac06be04e70"
      },
      "execution_count": null,
      "outputs": [
        {
          "output_type": "stream",
          "name": "stdout",
          "text": [
            "Hi my name is Jojo! and I'm Golden\n",
            "I'm eating hotdog and it's delicious\n"
          ]
        }
      ]
    },
    {
      "cell_type": "code",
      "source": [
        "dog1.play(\"running\")"
      ],
      "metadata": {
        "id": "U7E1TjNDXbtM",
        "colab": {
          "base_uri": "https://localhost:8080/"
        },
        "outputId": "d1645120-dbf3-4ad9-a7e8-d8936b774238"
      },
      "execution_count": null,
      "outputs": [
        {
          "output_type": "stream",
          "name": "stdout",
          "text": [
            "Energy level: 55\n"
          ]
        }
      ]
    },
    {
      "cell_type": "code",
      "source": [
        "print(dog1)"
      ],
      "metadata": {
        "colab": {
          "base_uri": "https://localhost:8080/"
        },
        "id": "-G1kuTlnXfud",
        "outputId": "2590b6ab-1299-410b-d3a1-69b5d9a87361"
      },
      "execution_count": null,
      "outputs": [
        {
          "output_type": "stream",
          "name": "stdout",
          "text": [
            "I'm a dog :D\n"
          ]
        }
      ]
    },
    {
      "cell_type": "markdown",
      "source": [
        "## Homework \n",
        "\n",
        "Url : [Click](https://colab.research.google.com/drive/1Gsb1pE0FXgoevRxLI_qKag9lxx_8gdzV#scrollTo=EJxbSenF3Db2&uniqifier=1)\n",
        "\n",
        "1. เป่ายิ้งฉุบ Python\n",
        "2. Class ATM\n",
        "\n",
        "5 ATM method\n",
        "- รับเงินฝาก\n",
        "- ถอนเงินฝาก\n",
        "- เช็คยอด\n",
        "- method 4\n",
        "- method 5\n",
        "\n",
        "Optional - Class restaurant\n",
        "\n"
      ],
      "metadata": {
        "id": "9muxJGV0ZRIX"
      }
    },
    {
      "cell_type": "code",
      "source": [
        "def grading(score):\n",
        "    if score >= 80:\n",
        "        return \"A\"\n",
        "    elif score >= 71:\n",
        "        return \"B\"\n",
        "    elif score >= 61:\n",
        "        return \"C\"\n",
        "    elif score >= 41:\n",
        "        return \"D\"\n",
        "    else:\n",
        "        return \"F\"\n",
        "\n",
        "\n",
        "grading(40)"
      ],
      "metadata": {
        "colab": {
          "base_uri": "https://localhost:8080/",
          "height": 35
        },
        "id": "MrXm9xI9SMd2",
        "outputId": "a72ab35c-38b9-4e3b-b4e8-789bde593d88"
      },
      "execution_count": null,
      "outputs": [
        {
          "output_type": "execute_result",
          "data": {
            "text/plain": [
              "'F'"
            ],
            "application/vnd.google.colaboratory.intrinsic+json": {
              "type": "string"
            }
          },
          "metadata": {},
          "execution_count": 24
        }
      ]
    },
    {
      "cell_type": "code",
      "source": [
        "import re\n",
        "text =\"HelLo WoRLd\"\n",
        "len(re.findall(r'[A-Z]',text))"
      ],
      "metadata": {
        "colab": {
          "base_uri": "https://localhost:8080/"
        },
        "id": "ggTXcm35UrC1",
        "outputId": "19741a5a-5dc5-46ab-98d8-15244e50518c"
      },
      "execution_count": null,
      "outputs": [
        {
          "output_type": "execute_result",
          "data": {
            "text/plain": [
              "5"
            ]
          },
          "metadata": {},
          "execution_count": 31
        }
      ]
    },
    {
      "cell_type": "code",
      "source": [
        "def printdouble(arr):\n",
        "    for x in arr:\n",
        "        print(x*2)\n",
        "printdouble([1,10,3,7,15])"
      ],
      "metadata": {
        "colab": {
          "base_uri": "https://localhost:8080/"
        },
        "id": "Ey4nP2yghuUv",
        "outputId": "e73ad920-4d12-4a5e-a10a-4174b2641065"
      },
      "execution_count": null,
      "outputs": [
        {
          "output_type": "stream",
          "name": "stdout",
          "text": [
            "2\n",
            "20\n",
            "6\n",
            "14\n",
            "30\n"
          ]
        }
      ]
    },
    {
      "cell_type": "code",
      "source": [
        "weekdays = [\"Monday\", \"Tuesday\", \"Wednesday\", \"Thursday\", \"Friday\", \"Saturday\", \"Sunday\"]\n",
        "\n",
        "if day == \"Monday\":\n",
        "    print(\"Hello Monday\")\n",
        "else:\n",
        "    print(\"weekdays\")"
      ],
      "metadata": {
        "colab": {
          "base_uri": "https://localhost:8080/"
        },
        "id": "AoSXhEPCfoY1",
        "outputId": "b941a58d-4935-4996-98fb-20f1edcf46bb"
      },
      "execution_count": null,
      "outputs": [
        {
          "output_type": "stream",
          "name": "stdout",
          "text": [
            "Hello Monday\n"
          ]
        }
      ]
    },
    {
      "cell_type": "code",
      "source": [
        "for x in range (1,101): #print 0-100\n",
        "    if x % 3 == 0 and x % 5 == 0:\n",
        "        print(\"FizzBuzz\") #หาร 3,5 ลงตัว\n",
        "    elif (x % 3) == 0:\n",
        "        print(\"Fizz\")   #หาร 3 ลงตัว\n",
        "    elif x % 5 == 0:\n",
        "        print(\"Buzz\")  #หาร 5 ลงตัว\n",
        "    else:\n",
        "        print(x)"
      ],
      "metadata": {
        "id": "D3SA43B4iNug"
      },
      "execution_count": null,
      "outputs": []
    },
    {
      "cell_type": "code",
      "source": [],
      "metadata": {
        "id": "L1tv7A1_oKnn"
      },
      "execution_count": null,
      "outputs": []
    }
  ]
}