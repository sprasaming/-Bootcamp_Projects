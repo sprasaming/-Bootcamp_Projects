{
  "nbformat": 4,
  "nbformat_minor": 0,
  "metadata": {
    "colab": {
      "provenance": [],
      "collapsed_sections": [
        "EJxbSenF3Db2"
      ],
      "toc_visible": true
    },
    "kernelspec": {
      "name": "python3",
      "display_name": "Python 3"
    },
    "language_info": {
      "name": "python"
    }
  },
  "cells": [
    {
      "cell_type": "markdown",
      "source": [
        "# Homework\n",
        "\n",
        "1. เป่ายิ้งฉุบ Python\n",
        "2. Class ATM\n",
        "3. Class restaurant (Optional)\n"
      ],
      "metadata": {
        "id": "7FjVfpe32H1t"
      }
    },
    {
      "cell_type": "markdown",
      "source": [
        "## 1. Homework : เป่ายิ้งฉุบ Python\n"
      ],
      "metadata": {
        "id": "cwuSHFIRuE_M"
      }
    },
    {
      "cell_type": "code",
      "execution_count": null,
      "metadata": {
        "id": "b4KcMjiot486"
      },
      "outputs": [],
      "source": [
        "import random\n",
        "choice = [\"Hammer\" , \"Paper\" , \"Scissor\" ]\n",
        "\n",
        "def game():\n",
        "    \n",
        "    computer = random.choice(choice)\n",
        "    while True:\n",
        "        user = input(\"Choose your action Hammer Paper Scissor or quit game : \")\n",
        "        if(user == \"quit\"):\n",
        "            print(\"Bye bye\")\n",
        "            break\n",
        "        print(f\"You played {user} and Computer played {computer}\")\n",
        "        if user == computer:\n",
        "            return 'It`s a tie!'\n",
        "        elif (user == 'Hammer' and computer == 'Scissor') or (user == 'Scissor' and computer == 'Paper') or (user == 'Paper' and computer == 'Hammer'):\n",
        "            return 'You win'\n",
        "        else : \n",
        "            return 'You lose'\n",
        "\n",
        "\n"
      ]
    },
    {
      "cell_type": "code",
      "source": [
        "game()"
      ],
      "metadata": {
        "id": "t0j89Ion1OHj"
      },
      "execution_count": null,
      "outputs": []
    },
    {
      "cell_type": "markdown",
      "source": [
        "## 2. ATM Machine with Class OOP (Object Oriented Programming)\n",
        "- บัญชีผู้ใช้\n",
        "- รับเงินฝาก\n",
        "- ถอนเงินฝาก\n",
        "- เช็คยอด\n",
        "- โอนเงิน\n"
      ],
      "metadata": {
        "id": "EJxbSenF3Db2"
      }
    },
    {
      "cell_type": "code",
      "source": [
        "class ATM():\n",
        "    def __init__ (self, name, age, account, balance):\n",
        "        self.name = name\n",
        "        self.age = age\n",
        "        self.account = account\n",
        "        self.balance = balance\n",
        "\n",
        " # methods    \n",
        "    def account_detail(self):\n",
        "        print(f\"Account Name : {self.name.upper()}\")\n",
        "        print(f\"Account Age : {self.age}\")\n",
        "        print(f\"Account Nummer : {self.account}\")\n",
        "        print(f\"Available Balance: {self.balance}\")\n",
        "    \n",
        "    def deposit(self, amount):\n",
        "        self.amount = amount\n",
        "        self.balance = self.balance + self.amount\n",
        "        print(f\"Account Name : {self.name}\")\n",
        "        print(f\"Total Balance : {self.balance}\")\n",
        "    \n",
        "    def withdraw(self, amount2):\n",
        "        self.amount2 = amount2\n",
        "        if self.amount2 > self.balance:\n",
        "            print(\"Insufficient Balance\")\n",
        "            print(f\"Please try again.\")\n",
        "        else:\n",
        "            self.balance = self.balance - self.amount2\n",
        "            print(f\"{amount2} withdraw successful!\")\n",
        "            print(\"Current Account Balance: \", self.balance)\n",
        "\n",
        "    def statement(self):\n",
        "        print(f\"Account Nummer : {self.name}\")\n",
        "        print(f\"Your current Balance is : {self.balance}\")\n",
        "        print()\n",
        "\n",
        "\n",
        "    def transfer(self, amount3, account):\n",
        "        self.balance = self.balance - amount3 \n",
        "        print(f\"Tranfer to {account.upper()} Success\")\n",
        "        print(f\"Current Account Balance: {self.balance}\")\n"
      ],
      "metadata": {
        "id": "iqdMSm5M3Uc9"
      },
      "execution_count": null,
      "outputs": []
    },
    {
      "cell_type": "code",
      "source": [
        "customer1 = ATM(\"Mcdonald\", 32, 32863, 30000)\n",
        "customer2 = ATM(\"Jackey\", 27, 27038, 20000)\n",
        "customer3 = ATM(\"Pancake\", 22, 22274, 12000)"
      ],
      "metadata": {
        "id": "dXQ0v1R-5tvn"
      },
      "execution_count": null,
      "outputs": []
    },
    {
      "cell_type": "code",
      "source": [
        "customer1.account_detail()"
      ],
      "metadata": {
        "colab": {
          "base_uri": "https://localhost:8080/"
        },
        "id": "tVLyZph36BUE",
        "outputId": "5365c0fd-5519-4527-8915-aa5a77fb02eb"
      },
      "execution_count": null,
      "outputs": [
        {
          "output_type": "stream",
          "name": "stdout",
          "text": [
            "Account Name : MCDONALD\n",
            "Account Age : 32\n",
            "Account Nummer : 32863\n",
            "Available Balance: 44500\n"
          ]
        }
      ]
    },
    {
      "cell_type": "code",
      "source": [
        "customer1.deposit(21000)"
      ],
      "metadata": {
        "colab": {
          "base_uri": "https://localhost:8080/"
        },
        "id": "97FfKHsf76_V",
        "outputId": "d1b5c943-91fc-42f3-d9ad-198f6051434d"
      },
      "execution_count": null,
      "outputs": [
        {
          "output_type": "stream",
          "name": "stdout",
          "text": [
            "Account Name : Mcdonald\n",
            "Total Balance : 51000\n"
          ]
        }
      ]
    },
    {
      "cell_type": "code",
      "source": [
        "customer1.statement()"
      ],
      "metadata": {
        "colab": {
          "base_uri": "https://localhost:8080/"
        },
        "id": "uJsZ7ybV7_br",
        "outputId": "ada81c43-f693-4d66-fa53-9ec190ed8b92"
      },
      "execution_count": null,
      "outputs": [
        {
          "output_type": "stream",
          "name": "stdout",
          "text": [
            "Account Nummer : Mcdonald\n",
            "Your current Balance is : 51000\n",
            "\n"
          ]
        }
      ]
    },
    {
      "cell_type": "code",
      "source": [
        "customer1.withdraw(6000) "
      ],
      "metadata": {
        "colab": {
          "base_uri": "https://localhost:8080/"
        },
        "id": "Jh5fuPiQTUub",
        "outputId": "ed527b4a-e187-4eee-e428-52fd14a2a949"
      },
      "execution_count": null,
      "outputs": [
        {
          "output_type": "stream",
          "name": "stdout",
          "text": [
            "6000 withdraw successful!\n",
            "Current Account Balance:  45000\n"
          ]
        }
      ]
    },
    {
      "cell_type": "code",
      "source": [
        "customer1.withdraw(60000)  ## case withdraw over balance"
      ],
      "metadata": {
        "colab": {
          "base_uri": "https://localhost:8080/"
        },
        "id": "tQUHsvRbVry0",
        "outputId": "b7630850-d998-47be-fc38-d2a72a48efb1"
      },
      "execution_count": null,
      "outputs": [
        {
          "output_type": "stream",
          "name": "stdout",
          "text": [
            "Insufficient Balance\n",
            "Please try again.\n"
          ]
        }
      ]
    },
    {
      "cell_type": "code",
      "source": [
        "customer1.transfer(500,\"22274\")"
      ],
      "metadata": {
        "colab": {
          "base_uri": "https://localhost:8080/"
        },
        "id": "WW3dYgXbV449",
        "outputId": "361775d4-724d-49f5-e2f3-9ee742aaec3c"
      },
      "execution_count": null,
      "outputs": [
        {
          "output_type": "stream",
          "name": "stdout",
          "text": [
            "Tranfer to 22274 Success\n",
            "Current Account Balance: 44500\n"
          ]
        }
      ]
    },
    {
      "cell_type": "markdown",
      "source": [
        "# New Section"
      ],
      "metadata": {
        "id": "6nXhz0WvgGsR"
      }
    }
  ]
}