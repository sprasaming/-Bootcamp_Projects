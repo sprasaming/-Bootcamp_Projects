{
  "cells": [
    {
      "cell_type": "code",
      "execution_count": null,
      "metadata": {
        "id": "1F_yEfeS_Wmp"
      },
      "outputs": [],
      "source": [
        "## Set Variables\n",
        "rsp_gaming <- function() {\n",
        "  action = c(\"rock\", \"scissors\", \"paper\")\n",
        "  count_win <- 0\n",
        "  count_tie <- 0\n",
        "  count_loss <- 0\n",
        "\n",
        "## Start RSP GAME\n",
        "  while(TRUE){\n",
        "    user_action <- tolower(readline(\"Choose your action Rock Paper Scissor or quit game : \"))\n",
        "    com_action <- sample(action,1)\n",
        "  \n",
        "    if(user_action == \"quit\") {\n",
        "      print(\"See ya\")\n",
        "      break\n",
        "    } else if ((com_action == \"rock\" & user_action == \"paper\") | (com_action == \"scissors\" & user_action == \"rock\") | (com_action == \"paper\" & user_action == \"scissors\")) {\n",
        "      message(\"You Win :\",\" | You : \",user_action,\"  Com: \",com_action)\n",
        "      count_win <- count_win + 1 ## Case win\n",
        "    } else if ((com_action == \"rock\" & user_action == \"rock\") | (com_action == \"scissors\" & user_action == \"scissors\") | (com_action == \"paper\" & user_action == \"paper\")) {\n",
        "      message(\"You Tie :\",\" | You : \",user_action,\"  Com: \",com_action)\n",
        "      count_tie <- count_tie +1 ## Case tie\n",
        "    } else {\n",
        "      message(\"You Loss :\",\" | You : \",user_action,\" Com: \",com_action)\n",
        "      count_loss <- count_loss + 1 ## Case Loss\n",
        "    }\n",
        "  }\n",
        "  message(\"Score Win: \",count_win,\" | Tie: \",count_tie,\" | Loss: \",count_loss)\n",
        "}\n",
        "\n",
        "\n"
      ]
    },
    {
      "cell_type": "code",
      "execution_count": null,
      "metadata": {
        "colab": {
          "base_uri": "https://localhost:8080/"
        },
        "id": "RrPK2COjQniN",
        "outputId": "9fd90e54-e5e0-419b-b052-74c10867528f"
      },
      "outputs": [
        {
          "name": "stdout",
          "output_type": "stream",
          "text": [
            "Choose your action Rock Paper Scissor or quit game : Rock\n"
          ]
        },
        {
          "output_type": "stream",
          "name": "stderr",
          "text": [
            "You Tie : | You : rock  Com: rock\n",
            "\n"
          ]
        },
        {
          "name": "stdout",
          "output_type": "stream",
          "text": [
            "Choose your action Rock Paper Scissor or quit game : Rock\n"
          ]
        },
        {
          "output_type": "stream",
          "name": "stderr",
          "text": [
            "You Tie : | You : rock  Com: rock\n",
            "\n"
          ]
        },
        {
          "name": "stdout",
          "output_type": "stream",
          "text": [
            "Choose your action Rock Paper Scissor or quit game : Rock\n"
          ]
        },
        {
          "output_type": "stream",
          "name": "stderr",
          "text": [
            "You Loss : | You : rock Com: paper\n",
            "\n"
          ]
        },
        {
          "name": "stdout",
          "output_type": "stream",
          "text": [
            "Choose your action Rock Paper Scissor or quit game : Rock\n"
          ]
        },
        {
          "output_type": "stream",
          "name": "stderr",
          "text": [
            "You Loss : | You : rock Com: paper\n",
            "\n"
          ]
        },
        {
          "name": "stdout",
          "output_type": "stream",
          "text": [
            "Choose your action Rock Paper Scissor or quit game : Rock\n"
          ]
        },
        {
          "output_type": "stream",
          "name": "stderr",
          "text": [
            "You Tie : | You : rock  Com: rock\n",
            "\n"
          ]
        },
        {
          "name": "stdout",
          "output_type": "stream",
          "text": [
            "Choose your action Rock Paper Scissor or quit game : Rock\n"
          ]
        },
        {
          "output_type": "stream",
          "name": "stderr",
          "text": [
            "You Win : | You : rock  Com: scissors\n",
            "\n"
          ]
        },
        {
          "name": "stdout",
          "output_type": "stream",
          "text": [
            "Choose your action Rock Paper Scissor or quit game : Rock\n"
          ]
        },
        {
          "output_type": "stream",
          "name": "stderr",
          "text": [
            "You Tie : | You : rock  Com: rock\n",
            "\n"
          ]
        },
        {
          "name": "stdout",
          "output_type": "stream",
          "text": [
            "Choose your action Rock Paper Scissor or quit game : Rock\n"
          ]
        },
        {
          "output_type": "stream",
          "name": "stderr",
          "text": [
            "You Win : | You : rock  Com: scissors\n",
            "\n"
          ]
        },
        {
          "name": "stdout",
          "output_type": "stream",
          "text": [
            "Choose your action Rock Paper Scissor or quit game : Rock\n"
          ]
        },
        {
          "output_type": "stream",
          "name": "stderr",
          "text": [
            "You Loss : | You : rock Com: paper\n",
            "\n"
          ]
        },
        {
          "name": "stdout",
          "output_type": "stream",
          "text": [
            "Choose your action Rock Paper Scissor or quit game : Rock\n"
          ]
        },
        {
          "output_type": "stream",
          "name": "stderr",
          "text": [
            "You Win : | You : rock  Com: scissors\n",
            "\n"
          ]
        },
        {
          "name": "stdout",
          "output_type": "stream",
          "text": [
            "Choose your action Rock Paper Scissor or quit game : Rock\n"
          ]
        },
        {
          "output_type": "stream",
          "name": "stderr",
          "text": [
            "You Win : | You : rock  Com: scissors\n",
            "\n"
          ]
        },
        {
          "name": "stdout",
          "output_type": "stream",
          "text": [
            "Choose your action Rock Paper Scissor or quit game : Rock\n"
          ]
        },
        {
          "output_type": "stream",
          "name": "stderr",
          "text": [
            "You Win : | You : rock  Com: scissors\n",
            "\n"
          ]
        },
        {
          "output_type": "stream",
          "name": "stdout",
          "text": [
            "Choose your action Rock Paper Scissor or quit game : quit\n",
            "[1] \"See ya\"\n"
          ]
        },
        {
          "output_type": "stream",
          "name": "stderr",
          "text": [
            "Score Win: 5 | Tie: 4 | Loss: 3\n",
            "\n"
          ]
        }
      ],
      "source": [
        "rsp_gaming()"
      ]
    }
  ],
  "metadata": {
    "colab": {
      "provenance": []
    },
    "kernelspec": {
      "display_name": "R",
      "name": "ir"
    },
    "language_info": {
      "name": "R"
    }
  },
  "nbformat": 4,
  "nbformat_minor": 0
}